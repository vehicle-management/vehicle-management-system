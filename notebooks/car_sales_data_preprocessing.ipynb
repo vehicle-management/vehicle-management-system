{
 "cells": [
  {
   "cell_type": "code",
   "execution_count": 3,
   "metadata": {
    "id": "Qb3oGXedTsWX"
   },
   "outputs": [],
   "source": [
    "import pandas as pd\n",
    "from sklearn.preprocessing import StandardScaler\n",
    "\n",
    "# Load the dataset\n",
    "data = pd.read_csv(\"car_sales_data.csv\")"
   ]
  },
  {
   "cell_type": "code",
   "execution_count": 4,
   "metadata": {
    "id": "vUqeLOeRUgW2"
   },
   "outputs": [
    {
     "name": "stdout",
     "output_type": "stream",
     "text": [
      "\n",
      "First few rows of the dataset:\n",
      "         Date      Salesperson   Customer Name Car Make  Car Model  Car Year  \\\n",
      "0  2022-08-01  Monica Moore MD     Mary Butler   Nissan     Altima      2018   \n",
      "1  2023-03-15     Roberto Rose  Richard Pierce   Nissan      F-150      2016   \n",
      "2  2023-04-29     Ashley Ramos    Sandra Moore     Ford      Civic      2016   \n",
      "3  2022-09-04   Patrick Harris    Johnny Scott     Ford     Altima      2013   \n",
      "4  2022-06-16       Eric Lopez   Vanessa Jones    Honda  Silverado      2022   \n",
      "\n",
      "   Sale Price  Commission Rate  Commission Earned  \n",
      "0       15983         0.070495            1126.73  \n",
      "1       38474         0.134439            5172.40  \n",
      "2       33340         0.114536            3818.63  \n",
      "3       41937         0.092191            3866.20  \n",
      "4       20256         0.113490            2298.85  \n"
     ]
    }
   ],
   "source": [
    "# Display initial information\n",
    "print(\"\\nFirst few rows of the dataset:\")\n",
    "print(data.head())"
   ]
  },
  {
   "cell_type": "code",
   "execution_count": 5,
   "metadata": {
    "colab": {
     "base_uri": "https://localhost:8080/"
    },
    "id": "IIw8cxFdQJN2",
    "outputId": "517d2fab-665f-40c2-f1c3-39a24378168f"
   },
   "outputs": [
    {
     "name": "stdout",
     "output_type": "stream",
     "text": [
      "Initial data info:\n",
      "<class 'pandas.core.frame.DataFrame'>\n",
      "RangeIndex: 2500000 entries, 0 to 2499999\n",
      "Data columns (total 9 columns):\n",
      " #   Column             Dtype  \n",
      "---  ------             -----  \n",
      " 0   Date               object \n",
      " 1   Salesperson        object \n",
      " 2   Customer Name      object \n",
      " 3   Car Make           object \n",
      " 4   Car Model          object \n",
      " 5   Car Year           int64  \n",
      " 6   Sale Price         int64  \n",
      " 7   Commission Rate    float64\n",
      " 8   Commission Earned  float64\n",
      "dtypes: float64(2), int64(2), object(5)\n",
      "memory usage: 171.7+ MB\n"
     ]
    }
   ],
   "source": [
    "print(\"Initial data info:\")\n",
    "data.info()"
   ]
  },
  {
   "cell_type": "code",
   "execution_count": 6,
   "metadata": {
    "id": "gP0XeN77UtUe"
   },
   "outputs": [
    {
     "data": {
      "text/html": [
       "<div>\n",
       "<style scoped>\n",
       "    .dataframe tbody tr th:only-of-type {\n",
       "        vertical-align: middle;\n",
       "    }\n",
       "\n",
       "    .dataframe tbody tr th {\n",
       "        vertical-align: top;\n",
       "    }\n",
       "\n",
       "    .dataframe thead th {\n",
       "        text-align: right;\n",
       "    }\n",
       "</style>\n",
       "<table border=\"1\" class=\"dataframe\">\n",
       "  <thead>\n",
       "    <tr style=\"text-align: right;\">\n",
       "      <th></th>\n",
       "      <th>Date</th>\n",
       "      <th>Salesperson</th>\n",
       "      <th>Customer Name</th>\n",
       "      <th>Car Make</th>\n",
       "      <th>Car Model</th>\n",
       "      <th>Car Year</th>\n",
       "      <th>Sale Price</th>\n",
       "      <th>Commission Rate</th>\n",
       "      <th>Commission Earned</th>\n",
       "    </tr>\n",
       "  </thead>\n",
       "  <tbody>\n",
       "    <tr>\n",
       "      <th>count</th>\n",
       "      <td>2500000</td>\n",
       "      <td>2500000</td>\n",
       "      <td>2500000</td>\n",
       "      <td>2500000</td>\n",
       "      <td>2500000</td>\n",
       "      <td>2.500000e+06</td>\n",
       "      <td>2.500000e+06</td>\n",
       "      <td>2.500000e+06</td>\n",
       "      <td>2.500000e+06</td>\n",
       "    </tr>\n",
       "    <tr>\n",
       "      <th>unique</th>\n",
       "      <td>366</td>\n",
       "      <td>518657</td>\n",
       "      <td>518251</td>\n",
       "      <td>5</td>\n",
       "      <td>5</td>\n",
       "      <td>NaN</td>\n",
       "      <td>NaN</td>\n",
       "      <td>NaN</td>\n",
       "      <td>NaN</td>\n",
       "    </tr>\n",
       "    <tr>\n",
       "      <th>top</th>\n",
       "      <td>2022-12-24</td>\n",
       "      <td>Michael Smith</td>\n",
       "      <td>Michael Smith</td>\n",
       "      <td>Honda</td>\n",
       "      <td>Silverado</td>\n",
       "      <td>NaN</td>\n",
       "      <td>NaN</td>\n",
       "      <td>NaN</td>\n",
       "      <td>NaN</td>\n",
       "    </tr>\n",
       "    <tr>\n",
       "      <th>freq</th>\n",
       "      <td>7144</td>\n",
       "      <td>1229</td>\n",
       "      <td>1167</td>\n",
       "      <td>500687</td>\n",
       "      <td>500842</td>\n",
       "      <td>NaN</td>\n",
       "      <td>NaN</td>\n",
       "      <td>NaN</td>\n",
       "      <td>NaN</td>\n",
       "    </tr>\n",
       "    <tr>\n",
       "      <th>mean</th>\n",
       "      <td>NaN</td>\n",
       "      <td>NaN</td>\n",
       "      <td>NaN</td>\n",
       "      <td>NaN</td>\n",
       "      <td>NaN</td>\n",
       "      <td>2.015996e+03</td>\n",
       "      <td>3.001218e+04</td>\n",
       "      <td>9.998766e-02</td>\n",
       "      <td>3.001005e+03</td>\n",
       "    </tr>\n",
       "    <tr>\n",
       "      <th>std</th>\n",
       "      <td>NaN</td>\n",
       "      <td>NaN</td>\n",
       "      <td>NaN</td>\n",
       "      <td>NaN</td>\n",
       "      <td>NaN</td>\n",
       "      <td>3.739132e+00</td>\n",
       "      <td>1.154514e+04</td>\n",
       "      <td>2.887202e-02</td>\n",
       "      <td>1.481467e+03</td>\n",
       "    </tr>\n",
       "    <tr>\n",
       "      <th>min</th>\n",
       "      <td>NaN</td>\n",
       "      <td>NaN</td>\n",
       "      <td>NaN</td>\n",
       "      <td>NaN</td>\n",
       "      <td>NaN</td>\n",
       "      <td>2.010000e+03</td>\n",
       "      <td>1.000000e+04</td>\n",
       "      <td>5.000014e-02</td>\n",
       "      <td>5.013400e+02</td>\n",
       "    </tr>\n",
       "    <tr>\n",
       "      <th>25%</th>\n",
       "      <td>NaN</td>\n",
       "      <td>NaN</td>\n",
       "      <td>NaN</td>\n",
       "      <td>NaN</td>\n",
       "      <td>NaN</td>\n",
       "      <td>2.013000e+03</td>\n",
       "      <td>2.001900e+04</td>\n",
       "      <td>7.496450e-02</td>\n",
       "      <td>1.821710e+03</td>\n",
       "    </tr>\n",
       "    <tr>\n",
       "      <th>50%</th>\n",
       "      <td>NaN</td>\n",
       "      <td>NaN</td>\n",
       "      <td>NaN</td>\n",
       "      <td>NaN</td>\n",
       "      <td>NaN</td>\n",
       "      <td>2.016000e+03</td>\n",
       "      <td>3.000600e+04</td>\n",
       "      <td>1.000058e-01</td>\n",
       "      <td>2.741910e+03</td>\n",
       "    </tr>\n",
       "    <tr>\n",
       "      <th>75%</th>\n",
       "      <td>NaN</td>\n",
       "      <td>NaN</td>\n",
       "      <td>NaN</td>\n",
       "      <td>NaN</td>\n",
       "      <td>NaN</td>\n",
       "      <td>2.019000e+03</td>\n",
       "      <td>4.002200e+04</td>\n",
       "      <td>1.250065e-01</td>\n",
       "      <td>3.978142e+03</td>\n",
       "    </tr>\n",
       "    <tr>\n",
       "      <th>max</th>\n",
       "      <td>NaN</td>\n",
       "      <td>NaN</td>\n",
       "      <td>NaN</td>\n",
       "      <td>NaN</td>\n",
       "      <td>NaN</td>\n",
       "      <td>2.022000e+03</td>\n",
       "      <td>5.000000e+04</td>\n",
       "      <td>1.500000e-01</td>\n",
       "      <td>7.494530e+03</td>\n",
       "    </tr>\n",
       "  </tbody>\n",
       "</table>\n",
       "</div>"
      ],
      "text/plain": [
       "              Date    Salesperson  Customer Name Car Make  Car Model  \\\n",
       "count      2500000        2500000        2500000  2500000    2500000   \n",
       "unique         366         518657         518251        5          5   \n",
       "top     2022-12-24  Michael Smith  Michael Smith    Honda  Silverado   \n",
       "freq          7144           1229           1167   500687     500842   \n",
       "mean           NaN            NaN            NaN      NaN        NaN   \n",
       "std            NaN            NaN            NaN      NaN        NaN   \n",
       "min            NaN            NaN            NaN      NaN        NaN   \n",
       "25%            NaN            NaN            NaN      NaN        NaN   \n",
       "50%            NaN            NaN            NaN      NaN        NaN   \n",
       "75%            NaN            NaN            NaN      NaN        NaN   \n",
       "max            NaN            NaN            NaN      NaN        NaN   \n",
       "\n",
       "            Car Year    Sale Price  Commission Rate  Commission Earned  \n",
       "count   2.500000e+06  2.500000e+06     2.500000e+06       2.500000e+06  \n",
       "unique           NaN           NaN              NaN                NaN  \n",
       "top              NaN           NaN              NaN                NaN  \n",
       "freq             NaN           NaN              NaN                NaN  \n",
       "mean    2.015996e+03  3.001218e+04     9.998766e-02       3.001005e+03  \n",
       "std     3.739132e+00  1.154514e+04     2.887202e-02       1.481467e+03  \n",
       "min     2.010000e+03  1.000000e+04     5.000014e-02       5.013400e+02  \n",
       "25%     2.013000e+03  2.001900e+04     7.496450e-02       1.821710e+03  \n",
       "50%     2.016000e+03  3.000600e+04     1.000058e-01       2.741910e+03  \n",
       "75%     2.019000e+03  4.002200e+04     1.250065e-01       3.978142e+03  \n",
       "max     2.022000e+03  5.000000e+04     1.500000e-01       7.494530e+03  "
      ]
     },
     "execution_count": 6,
     "metadata": {},
     "output_type": "execute_result"
    }
   ],
   "source": [
    "data.describe(include='all')"
   ]
  },
  {
   "cell_type": "code",
   "execution_count": 7,
   "metadata": {
    "id": "kqp1cTDqU3GI"
   },
   "outputs": [],
   "source": [
    "# Renaming columns (if needed)\n",
    "# Rename any column with improper characters or formatting\n",
    "data.rename(columns={'__year_resale_value': 'Year_resale_value'}, inplace=True)"
   ]
  },
  {
   "cell_type": "code",
   "execution_count": 8,
   "metadata": {
    "id": "wEiIcNA7VBNj"
   },
   "outputs": [],
   "source": [
    "# Converting 'Latest_Launch' to datetime format\n",
    "if 'Latest_Launch' in data.columns:\n",
    "    data['Latest_Launch'] = pd.to_datetime(data['Latest_Launch'], errors='coerce')"
   ]
  },
  {
   "cell_type": "code",
   "execution_count": 9,
   "metadata": {
    "id": "DK1aztA4VIgt"
   },
   "outputs": [
    {
     "name": "stdout",
     "output_type": "stream",
     "text": [
      "Missing or null values in each column:\n",
      " Date                 0\n",
      "Salesperson          0\n",
      "Customer Name        0\n",
      "Car Make             0\n",
      "Car Model            0\n",
      "Car Year             0\n",
      "Sale Price           0\n",
      "Commission Rate      0\n",
      "Commission Earned    0\n",
      "dtype: int64\n"
     ]
    }
   ],
   "source": [
    "missing_values = data.isnull().sum()\n",
    "print(\"Missing or null values in each column:\\n\", missing_values)"
   ]
  },
  {
   "cell_type": "code",
   "execution_count": null,
   "metadata": {
    "id": "_5hulaaUVOYF"
   },
   "outputs": [],
   "source": [
    "# Handling missing values\n",
    "# Fill missing values in numerical columns with median\n",
    "numeric_columns = data.select_dtypes(include='float64').columns\n",
    "data[numeric_columns] = data[numeric_columns].apply(lambda x: x.fillna(x.median()))\n",
    "#However there are no null values in the data"
   ]
  },
  {
   "cell_type": "code",
   "execution_count": 11,
   "metadata": {
    "id": "Ov2IBL5dVmEW"
   },
   "outputs": [],
   "source": [
    "# Detecting and handling outliers using IQR\n",
    "def handle_outliers(column):\n",
    "    Q1 = data[column].quantile(0.25)\n",
    "    Q3 = data[column].quantile(0.75)\n",
    "    IQR = Q3 - Q1\n",
    "    lower_bound = Q1 - 1.5 * IQR\n",
    "    upper_bound = Q3 + 1.5 * IQR\n",
    "    # Clip outliers to within bounds\n",
    "    data[column] = data[column].clip(lower=lower_bound, upper=upper_bound)\n",
    "\n",
    "# Apply outlier handling on each continuous numerical column\n",
    "for column in numeric_columns:\n",
    "    handle_outliers(column)"
   ]
  },
  {
   "cell_type": "code",
   "execution_count": 12,
   "metadata": {
    "colab": {
     "base_uri": "https://localhost:8080/"
    },
    "id": "YSeb8X9OTDdI",
    "outputId": "27643b4f-d307-4392-85f9-1feda5486405"
   },
   "outputs": [
    {
     "name": "stdout",
     "output_type": "stream",
     "text": [
      "\n",
      "Cleaned data info:\n",
      "<class 'pandas.core.frame.DataFrame'>\n",
      "RangeIndex: 2500000 entries, 0 to 2499999\n",
      "Data columns (total 9 columns):\n",
      " #   Column             Dtype  \n",
      "---  ------             -----  \n",
      " 0   Date               object \n",
      " 1   Salesperson        object \n",
      " 2   Customer Name      object \n",
      " 3   Car Make           object \n",
      " 4   Car Model          object \n",
      " 5   Car Year           int64  \n",
      " 6   Sale Price         int64  \n",
      " 7   Commission Rate    float64\n",
      " 8   Commission Earned  float64\n",
      "dtypes: float64(2), int64(2), object(5)\n",
      "memory usage: 171.7+ MB\n",
      "\n",
      "First few rows of the cleaned dataset:\n",
      "         Date      Salesperson   Customer Name Car Make  Car Model  Car Year  \\\n",
      "0  2022-08-01  Monica Moore MD     Mary Butler   Nissan     Altima      2018   \n",
      "1  2023-03-15     Roberto Rose  Richard Pierce   Nissan      F-150      2016   \n",
      "2  2023-04-29     Ashley Ramos    Sandra Moore     Ford      Civic      2016   \n",
      "3  2022-09-04   Patrick Harris    Johnny Scott     Ford     Altima      2013   \n",
      "4  2022-06-16       Eric Lopez   Vanessa Jones    Honda  Silverado      2022   \n",
      "\n",
      "   Sale Price  Commission Rate  Commission Earned  \n",
      "0       15983         0.070495            1126.73  \n",
      "1       38474         0.134439            5172.40  \n",
      "2       33340         0.114536            3818.63  \n",
      "3       41937         0.092191            3866.20  \n",
      "4       20256         0.113490            2298.85  \n"
     ]
    }
   ],
   "source": [
    "# Display cleaned and preprocessed data\n",
    "print(\"\\nCleaned data info:\")\n",
    "data.info()\n",
    "print(\"\\nFirst few rows of the cleaned dataset:\")\n",
    "print(data.head())"
   ]
  },
  {
   "cell_type": "code",
   "execution_count": 13,
   "metadata": {
    "id": "-AQudKG5V0WP"
   },
   "outputs": [],
   "source": [
    "data.to_csv(\"clean_car_sales_data.csv\", index=False)"
   ]
  }
 ],
 "metadata": {
  "colab": {
   "provenance": []
  },
  "kernelspec": {
   "display_name": "Python 3",
   "name": "python3"
  },
  "language_info": {
   "codemirror_mode": {
    "name": "ipython",
    "version": 3
   },
   "file_extension": ".py",
   "mimetype": "text/x-python",
   "name": "python",
   "nbconvert_exporter": "python",
   "pygments_lexer": "ipython3",
   "version": "3.11.4"
  }
 },
 "nbformat": 4,
 "nbformat_minor": 0
}
