{
 "cells": [
  {
   "cell_type": "code",
   "execution_count": 47,
   "id": "eac1d835",
   "metadata": {},
   "outputs": [],
   "source": [
    "import mysql.connector \n",
    "\n",
    "conn = None\n",
    "def connect():\n",
    "    global conn\n",
    "    conn = mysql.connector.connect(host=\"localhost\", user=\"root\", password=\"1234\", database=\"final\")\n",
    "    return conn"
   ]
  },
  {
   "cell_type": "code",
   "execution_count": 49,
   "id": "f5418c4c",
   "metadata": {},
   "outputs": [
    {
     "name": "stdout",
     "output_type": "stream",
     "text": [
      "\n",
      "No of cars per make:\n",
      "('Honda', 3931)\n",
      "('Toyota', 3986)\n",
      "('Ford', 3996)\n",
      "('Chevrolet', 4019)\n",
      "('Nissan', 4068)\n"
     ]
    }
   ],
   "source": [
    "cursor = connect().cursor()\n",
    "query1 = \"\"\"\n",
    "SELECT m.make_name, COUNT(m.make_name) as cars_per_make from make m, \n",
    "vehicle v where m.make_id = v.make_id GROUP BY \n",
    " m.make_name ORDER BY cars_per_make;\n",
    " \"\"\"\n",
    " \n",
    "cursor.execute(query1) \n",
    "table = cursor.fetchall() \n",
    " \n",
    "print('\\nNo of cars per make:') \n",
    "for row in table: \n",
    "    print(row) \n",
    "    \n",
    "cursor.close() \n",
    "con.close()"
   ]
  },
  {
   "cell_type": "code",
   "execution_count": 50,
   "id": "ca92ddef",
   "metadata": {},
   "outputs": [
    {
     "name": "stdout",
     "output_type": "stream",
     "text": [
      "\n",
      "Models having an average rating of more than 7.5:\n",
      "('F-150', 7.895719844357992)\n",
      "('Civic', 7.860094850948511)\n",
      "('Altima', 7.857857142857158)\n",
      "('Corolla', 7.8418582375479)\n",
      "('Silverado', 7.823996350364964)\n"
     ]
    }
   ],
   "source": [
    "cursor = connect().cursor()\n",
    "query2 = \"\"\"\n",
    "SELECT v.model, AVG(vp.rating) as rating FROM vehicle_performance vp, vehicle v WHERE vp.vehicle_id = v.vehicle_id\n",
    "GROUP BY v.model HAVING rating > 7.5 ORDER BY rating DESC;\n",
    " \"\"\"\n",
    " \n",
    "cursor.execute(query2)  \n",
    "table = cursor.fetchall() \n",
    "  \n",
    "print('\\nModels having an average rating of more than 7.5:') \n",
    "for row in table: \n",
    "    print(row) \n",
    "    \n",
    "cursor.close() \n",
    "con.close()"
   ]
  },
  {
   "cell_type": "code",
   "execution_count": 51,
   "id": "259d4c52",
   "metadata": {},
   "outputs": [
    {
     "name": "stdout",
     "output_type": "stream",
     "text": [
      "\n",
      "No of clients in active, suspended or inactive status:\n",
      "('Active', 3331)\n",
      "('Suspended', 3355)\n",
      "('Inactive', 3314)\n"
     ]
    }
   ],
   "source": [
    "cursor = connect().cursor()\n",
    "query3 = \"\"\"\n",
    "SELECT status, COUNT(client_id) as count_of_clients FROM client_account GROUP BY status;\n",
    " \"\"\"\n",
    " \n",
    "cursor.execute(query3)  \n",
    "table = cursor.fetchall() \n",
    "  \n",
    "print('\\nNo of clients in active, suspended or inactive status:') \n",
    "for row in table: \n",
    "    print(row) \n",
    "    \n",
    "cursor.close() \n",
    "con.close()"
   ]
  },
  {
   "cell_type": "code",
   "execution_count": 52,
   "id": "6c16523c",
   "metadata": {},
   "outputs": [
    {
     "name": "stdout",
     "output_type": "stream",
     "text": [
      "\n",
      "Average price per model :\n",
      "('Altima', Decimal('29935.8680'))\n",
      "('F-150', Decimal('30037.0822'))\n",
      "('Silverado', Decimal('30077.8474'))\n",
      "('Corolla', Decimal('30087.4204'))\n",
      "('Civic', Decimal('30310.4454'))\n"
     ]
    }
   ],
   "source": [
    "cursor = connect().cursor()\n",
    "query4 = \"\"\"\n",
    "SELECT model, AVG(price) as avg_price_per_model FROM vehicle GROUP BY model \n",
    "ORDER BY avg_price_per_model;\n",
    " \"\"\"\n",
    "\n",
    "cursor.execute(query4)  \n",
    "table = cursor.fetchall() \n",
    "  \n",
    "print('\\nAverage price per model :') \n",
    "for row in table: \n",
    "    print(row) \n",
    "    \n",
    "cursor.close() \n",
    "con.close()"
   ]
  },
  {
   "cell_type": "code",
   "execution_count": 53,
   "id": "860ef693",
   "metadata": {},
   "outputs": [
    {
     "name": "stdout",
     "output_type": "stream",
     "text": [
      "\n",
      "Cars sold per year :\n",
      "(2021, 1605)\n",
      "(2019, 1562)\n",
      "(2016, 1559)\n",
      "(2014, 1555)\n",
      "(2013, 1553)\n",
      "(2015, 1543)\n",
      "(2022, 1536)\n",
      "(2020, 1531)\n",
      "(2010, 1521)\n",
      "(2017, 1516)\n",
      "(2012, 1512)\n",
      "(2018, 1504)\n",
      "(2011, 1503)\n"
     ]
    }
   ],
   "source": [
    "cursor = connect().cursor()\n",
    "query5 = \"\"\"\n",
    "SELECT year, COUNT(*) as cars_sold FROM vehicle GROUP BY year ORDER BY cars_sold DESC;\n",
    " \"\"\"\n",
    "\n",
    "cursor.execute(query5)  \n",
    "table = cursor.fetchall() \n",
    "  \n",
    "print('\\nCars sold per year :') \n",
    "for row in table: \n",
    "    print(row) \n",
    "    \n",
    "cursor.close() \n",
    "con.close()"
   ]
  },
  {
   "cell_type": "code",
   "execution_count": 54,
   "id": "faf51fb2",
   "metadata": {},
   "outputs": [
    {
     "name": "stdout",
     "output_type": "stream",
     "text": [
      "\n",
      "No of stores per state:\n",
      "('CA', 421)\n",
      "('TX', 385)\n",
      "('FL', 301)\n",
      "('PA', 197)\n",
      "('NY', 195)\n",
      "('GA', 151)\n",
      "('VA', 150)\n",
      "('IL', 145)\n",
      "('NC', 140)\n",
      "('OH', 138)\n",
      "('NJ', 123)\n",
      "('IN', 102)\n",
      "('MI', 101)\n",
      "('MA', 99)\n",
      "('MD', 93)\n",
      "('TN', 86)\n",
      "('MO', 83)\n",
      "('WA', 81)\n",
      "('KY', 77)\n",
      "('LA', 72)\n",
      "('SC', 71)\n",
      "('AZ', 71)\n",
      "('CO', 62)\n",
      "('CT', 61)\n",
      "('OR', 58)\n",
      "('AL', 57)\n",
      "('WI', 55)\n",
      "('NV', 55)\n",
      "('MN', 45)\n",
      "('MS', 42)\n",
      "('OK', 41)\n",
      "('UT', 39)\n",
      "('WV', 37)\n",
      "('KS', 34)\n",
      "('HI', 30)\n",
      "('AR', 28)\n",
      "('IA', 27)\n",
      "('NH', 26)\n",
      "('NM', 23)\n",
      "('ME', 22)\n",
      "('ID', 21)\n",
      "('PR', 21)\n",
      "('NE', 17)\n",
      "('RI', 15)\n",
      "('DE', 15)\n",
      "('MT', 15)\n",
      "('ND', 12)\n",
      "('WY', 9)\n",
      "('DC', 8)\n",
      "('VT', 8)\n",
      "('AK', 7)\n",
      "('SD', 6)\n"
     ]
    }
   ],
   "source": [
    "cursor = connect().cursor()\n",
    "query6 = \"\"\"\n",
    "SELECT state, COUNT(*) as no_of_states FROM store GROUP BY state ORDER BY no_of_states DESC;\n",
    " \"\"\"\n",
    "\n",
    "cursor.execute(query6)  \n",
    "table = cursor.fetchall() \n",
    "  \n",
    "print('\\nNo of stores per state:') \n",
    "for row in table: \n",
    "    print(row) \n",
    "    \n",
    "cursor.close() \n",
    "con.close()"
   ]
  },
  {
   "cell_type": "code",
   "execution_count": null,
   "id": "a643e0fd",
   "metadata": {},
   "outputs": [],
   "source": []
  }
 ],
 "metadata": {
  "kernelspec": {
   "display_name": "Python 3 (ipykernel)",
   "language": "python",
   "name": "python3"
  },
  "language_info": {
   "codemirror_mode": {
    "name": "ipython",
    "version": 3
   },
   "file_extension": ".py",
   "mimetype": "text/x-python",
   "name": "python",
   "nbconvert_exporter": "python",
   "pygments_lexer": "ipython3",
   "version": "3.11.5"
  }
 },
 "nbformat": 4,
 "nbformat_minor": 5
}
